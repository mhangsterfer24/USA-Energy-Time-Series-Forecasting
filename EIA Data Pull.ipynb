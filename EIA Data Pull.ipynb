{
 "cells": [
  {
   "cell_type": "code",
   "execution_count": 1,
   "id": "956f5fe0",
   "metadata": {},
   "outputs": [],
   "source": [
    "import requests\n",
    "import time\n",
    "import pandas as pd\n",
    "import sqlalchemy\n",
    "from sqlalchemy import create_engine\n",
    "\n",
    "import os\n",
    "from dotenv import load_dotenv"
   ]
  },
  {
   "cell_type": "code",
   "execution_count": 2,
   "id": "73fdd54d",
   "metadata": {
    "scrolled": true
   },
   "outputs": [],
   "source": [
    "load_dotenv('env.env')\n",
    "api_key = os.getenv('api_key')"
   ]
  },
  {
   "cell_type": "code",
   "execution_count": 3,
   "id": "c74f99e7-ea41-47ff-bfc5-964a370139c2",
   "metadata": {},
   "outputs": [],
   "source": [
    "url = f\"https://api.eia.gov/v2/total-energy/data/?api_key={api_key}&frequency=monthly&data[0]=value&facets[msn][]=CLETPUS&facets[msn][]=ELETPUS&facets[msn][]=HVETPUS&facets[msn][]=NGETPUS&facets[msn][]=NUETPUS&facets[msn][]=PAETPUS&facets[msn][]=SOETPUS&facets[msn][]=WYETPUS&start=1973-01&end=2022-12&sort[0][column]=period&sort[0][direction]=desc&offset=0&length=5000\"\n",
    "info = requests.get(url).json()\n",
    "data = info[\"response\"]\n",
    "df = pd.DataFrame(data['data'])"
   ]
  },
  {
   "cell_type": "code",
   "execution_count": 4,
   "id": "a01a52c6",
   "metadata": {},
   "outputs": [],
   "source": [
    "# DEFINE THE DATABASE CREDENTIALS\n",
    "user = os.getenv('user')\n",
    "password = os.getenv('password')\n",
    "host = os.getenv('host')\n",
    "port = os.getenv('port')\n",
    "database = os.getenv('database')"
   ]
  },
  {
   "cell_type": "code",
   "execution_count": 5,
   "id": "cc7c38aa",
   "metadata": {},
   "outputs": [],
   "source": [
    "#replace <user>, <password>, <host>, and <port> with your MySQL credentials\n",
    "engine = create_engine(f'mysql+pymysql://{user}:{password}@{host}:{port}/{database}')"
   ]
  },
  {
   "cell_type": "code",
   "execution_count": null,
   "id": "2d695041",
   "metadata": {},
   "outputs": [],
   "source": [
    "#write the DataFrame to a MySQL table using SQLAlchemy\n",
    "df.to_sql(name='His_Electricity_Net_Generation', con=engine, if_exists='replace', index=False)"
   ]
  }
 ],
 "metadata": {
  "kernelspec": {
   "display_name": "Python 3 (ipykernel)",
   "language": "python",
   "name": "python3"
  },
  "language_info": {
   "codemirror_mode": {
    "name": "ipython",
    "version": 3
   },
   "file_extension": ".py",
   "mimetype": "text/x-python",
   "name": "python",
   "nbconvert_exporter": "python",
   "pygments_lexer": "ipython3",
   "version": "3.10.10"
  }
 },
 "nbformat": 4,
 "nbformat_minor": 5
}
